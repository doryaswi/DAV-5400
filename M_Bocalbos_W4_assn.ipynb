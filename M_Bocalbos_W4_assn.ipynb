{
 "cells": [
  {
   "cell_type": "markdown",
   "metadata": {},
   "source": [
    "# WEEK 4: NUMPY #"
   ]
  },
  {
   "cell_type": "markdown",
   "metadata": {},
   "source": [
    "### Question 1: ###"
   ]
  },
  {
   "cell_type": "code",
   "execution_count": 1,
   "metadata": {},
   "outputs": [
    {
     "name": "stdout",
     "output_type": "stream",
     "text": [
      "[2 4]\n"
     ]
    }
   ],
   "source": [
    "import numpy as np\n",
    "\n",
    "a = np.array([1,2,3,2,3,4,3,4,5,6])\n",
    "b = np.array([7,2,10,2,7,4,9,4,9,8])\n",
    "\n",
    "a_b = np.intersect1d(a,b) #finds distinct and unique items in array a and b and outputs it as a_b array\n",
    "print(a_b)"
   ]
  },
  {
   "cell_type": "markdown",
   "metadata": {},
   "source": [
    "### Question 2: ###"
   ]
  },
  {
   "cell_type": "code",
   "execution_count": 2,
   "metadata": {},
   "outputs": [
    {
     "name": "stdout",
     "output_type": "stream",
     "text": [
      "[[ 1  6 11]\n",
      " [ 2  7 12]\n",
      " [ 3  8 13]\n",
      " [ 4  9 14]\n",
      " [ 5 10 15]]\n"
     ]
    }
   ],
   "source": [
    "myarray1 = np.arange(1,16).reshape((3,5)).T #creates a sequenced array from 1 to 15 and transposes it to become a 5x3 array\n",
    "print(myarray1)"
   ]
  },
  {
   "cell_type": "markdown",
   "metadata": {},
   "source": [
    "### Question 3: ###"
   ]
  },
  {
   "cell_type": "code",
   "execution_count": 3,
   "metadata": {},
   "outputs": [
    {
     "name": "stdout",
     "output_type": "stream",
     "text": [
      "[ 1  7  8 15]\n"
     ]
    }
   ],
   "source": [
    "a = np.array([12,5,7,15,3,1,8])\n",
    "b = np.array([14,6,3,11,19,12,5])\n",
    "\n",
    "a = np.setdiff1d(a,b) #removes items in array a that are present in item b\n",
    "print(a)"
   ]
  },
  {
   "cell_type": "markdown",
   "metadata": {},
   "source": [
    "### Question 4: ###"
   ]
  },
  {
   "cell_type": "markdown",
   "metadata": {},
   "source": [
    "**Printing My Cumulative Miles Array:**"
   ]
  },
  {
   "cell_type": "code",
   "execution_count": 4,
   "metadata": {},
   "outputs": [
    {
     "name": "stdout",
     "output_type": "stream",
     "text": [
      "[  44   99  153  212  265  316  361  417  417  474  525  574  622  664\n",
      "  706  746  746  787  836  883  925  971 1014 1072 1072 1123 1171 1224\n",
      " 1279 1336 1378 1418 1418 1476 1551]\n"
     ]
    }
   ],
   "source": [
    "myrandom = np.random.randint(40,60,35) #randomly generates 35 integers between 40 and 60 and stores it as an array object\n",
    "myrandomlist = myrandom.tolist() #converts array into a list\n",
    "\n",
    "om_reading = [] #creates an empty list of cumulative odometer reading\n",
    "totalmiles = 0\n",
    "for x in range(35):\n",
    "    if x > 0 and x % 8 == 0: #checks if x is greater than zero and if it is divisible by 8\n",
    "        om_reading.append(totalmiles) #if divisible by 8 copies the same odometer reading\n",
    "    else: \n",
    "        totalmiles += myrandomlist[x] \n",
    "        if x != 34 and totalmiles <= 1551: \n",
    "            om_reading.append(totalmiles) #appends cumulative sum on the list if condition is satisfied\n",
    "        else:\n",
    "            om_reading.append(1551) #forces the last element to be equal to become total distance between nyc and key west,fl\n",
    "\n",
    "om_reading = np.asarray(om_reading) #converts list into an array\n",
    "print(om_reading)"
   ]
  },
  {
   "cell_type": "markdown",
   "metadata": {},
   "source": [
    "**Printing My Miles Covered Per Day:**"
   ]
  },
  {
   "cell_type": "code",
   "execution_count": 5,
   "metadata": {},
   "outputs": [
    {
     "name": "stdout",
     "output_type": "stream",
     "text": [
      "[55 54 59 53 51 45 56  0 57 51 49 48 42 42 40  0 41 49 47 42 46 43 58  0\n",
      " 51 48 53 55 57 42 40  0 58 75]\n"
     ]
    }
   ],
   "source": [
    "miles_per_day = np.diff(om_reading)\n",
    "print(miles_per_day)"
   ]
  },
  {
   "cell_type": "markdown",
   "metadata": {},
   "source": [
    "**Approach to Problem:**\n",
    "\n",
    "For this problem, I decided to create the array of the odometer reading to be created programatically. To do so, the following steps were done:\n",
    "1. Research on total miles between NYC to Key West, Florida by bike. Found this to be equal to 1,551 miles.\n",
    "2. Divided total miles (1551) by 35 days since it is said that I will be arriving at my destination on the 35th day. This was found to be equal to around 44.31 days.This information was used to generate random numbers. This is the reason why the random numbers generated was decided to be between 40 and 60.\n",
    "3. For the 4 non consecutive days that I did not do anything, 35 days was divided by 4. Since this is equal to 8, it was decided that I will take a rest every 8th day. Therefore, this was incorporated on the code such that if it is the 8th, 16th, 24th, and 32nd day, my odometer reading will not change.\n",
    "4. Lastly, on the 35th day, the code forces the array to have the total miles, that is, 1551.\n",
    "\n",
    "**Use of Numpy:**\n",
    "Numpy was first used to generate random integer numbers between 40 and 60 and also with a size of 35. List was created to store odometer reading and later on this list was converted back into an array using numpy. Lastly, numpy was used to create a new array that prints out the total miles covered each day."
   ]
  },
  {
   "cell_type": "markdown",
   "metadata": {},
   "source": [
    "### Question 5: ###"
   ]
  },
  {
   "cell_type": "markdown",
   "metadata": {},
   "source": [
    "**Initialization:**"
   ]
  },
  {
   "cell_type": "code",
   "execution_count": 6,
   "metadata": {},
   "outputs": [
    {
     "name": "stderr",
     "output_type": "stream",
     "text": [
      "C:\\Users\\mhari\\Anaconda3\\lib\\site-packages\\ipykernel_launcher.py:6: FutureWarning: Method .as_matrix will be removed in a future version. Use .values instead.\n",
      "  \n"
     ]
    },
    {
     "data": {
      "text/plain": [
       "numpy.ndarray"
      ]
     },
     "execution_count": 6,
     "metadata": {},
     "output_type": "execute_result"
    }
   ],
   "source": [
    "import pandas\n",
    "# supress scientific notation\n",
    "np.set_printoptions(suppress = True)\n",
    "\n",
    "# read the data file from GitHub and convert to a NumPy ndarray object\n",
    "nyc_water = pandas.read_csv('https://raw.githubusercontent.com/jtopor/DAV-5400/master/Week4/Water_Consumption_In_The_New_York_City.csv').as_matrix()\n",
    "\n",
    "# verify you have an ndarray object\n",
    "type(nyc_water)"
   ]
  },
  {
   "cell_type": "markdown",
   "metadata": {},
   "source": [
    "**Answers to Questions:**"
   ]
  },
  {
   "cell_type": "code",
   "execution_count": 7,
   "metadata": {},
   "outputs": [
    {
     "name": "stdout",
     "output_type": "stream",
     "text": [
      "The maximum yearly consumption of water in NYC in millions of gallons per day is: 1512.0\n",
      "The number of calendar years represented within the data set is: 39 years.\n",
      "The per capita water consumption mean is: 160.30769230769232 while standard deviation is: 31.51894330370624\n"
     ]
    }
   ],
   "source": [
    "max_gallons = np.max(nyc_water[:,2]) #calculates maximum of all rows in 3rd column (yearly water consumption)\n",
    "num_cal_year = np.size(nyc_water,axis=0) #gets number of elements columnwise\n",
    "mean_percapwater = np.mean(nyc_water[:,3]) #calculates mean of all rows in 4th column (per capita water consumption in NYC)\n",
    "std_percapwater = np.std(nyc_water[:,3]) #calculates standard deviation of all rows in 4th column (per capita water consumption in NYC)\n",
    "print('The maximum yearly consumption of water in NYC in millions of gallons per day is: ' + format(max_gallons))\n",
    "print('The number of calendar years represented within the data set is: ' + format(num_cal_year) + ' years.')\n",
    "print('The per capita water consumption mean is: ' + str(mean_percapwater) + ' while standard deviation is: ' + str(std_percapwater))"
   ]
  },
  {
   "cell_type": "code",
   "execution_count": 8,
   "metadata": {},
   "outputs": [
    {
     "name": "stdout",
     "output_type": "stream",
     "text": [
      "[-30461.   17602.   19864.   72119.   53290.   39540.   45192.   23230.\n",
      "  11243.   -9544.   -8525.   38851.   54443.   77222.   64292.   62582.\n",
      "  64772.   75631.   84816.   89401.   60618.   16685.5  16685.5  16685.5\n",
      "  16685.5  16685.5  16685.5  16685.5  16685.5  16685.5  16685.5 108965.\n",
      "  77081.   61281.   49530.   44512.   21171.   85025. ]\n"
     ]
    }
   ],
   "source": [
    "nyc_pop = nyc_water[:,1] #creates a new array to store population data\n",
    "pop_diff = np.diff(nyc_pop) #calculates difference per year and stores it in a new array\n",
    "print(pop_diff)"
   ]
  }
 ],
 "metadata": {
  "kernelspec": {
   "display_name": "Python 3",
   "language": "python",
   "name": "python3"
  },
  "language_info": {
   "codemirror_mode": {
    "name": "ipython",
    "version": 3
   },
   "file_extension": ".py",
   "mimetype": "text/x-python",
   "name": "python",
   "nbconvert_exporter": "python",
   "pygments_lexer": "ipython3",
   "version": "3.7.1"
  }
 },
 "nbformat": 4,
 "nbformat_minor": 2
}
