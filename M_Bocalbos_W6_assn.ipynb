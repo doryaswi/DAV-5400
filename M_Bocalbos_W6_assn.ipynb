{
 "cells": [
  {
   "cell_type": "markdown",
   "metadata": {},
   "source": [
    "# Week 6: Using Pandas to Analyze Diamonds Data #"
   ]
  },
  {
   "cell_type": "markdown",
   "metadata": {},
   "source": [
    "### The Dataset: ###\n",
    "\n",
    "For this assignment, the objective is to analyze the Diamonds dataset by using pandas. Pandas will be used to plot some charts to do some exploratory data analysis (EDA) with the dataset.\n",
    "\n",
    "This dataset has 53,940 rows and has 10 attributes. These are: price (in US dollars and is a numeric and continuous variable), carat (numeric and continuous), cut with values Fair, Good, Very Good, Premium, and Ideal (categorical and nominal), color with values J (worst) to D (best) (categorical and ordinal), clarity with values I1 (worst), SI2, SI1, VS2, VS1, VVS2, VVS1, IF (best) (categorical and ordinal), x which is the length in mm (numeric and continuous), y which is the width in mm (numeric and continuous), z depth in mm (numeric and continuous), depth which is the total depth in percentage (numeric and continuous), and table which is the width of top of diamond relative to widest point (numeric and continuous)."
   ]
  },
  {
   "cell_type": "markdown",
   "metadata": {},
   "source": [
    "### Data Initialization: ###"
   ]
  },
  {
   "cell_type": "code",
   "execution_count": 2,
   "metadata": {},
   "outputs": [
    {
     "data": {
      "text/html": [
       "<div>\n",
       "<style scoped>\n",
       "    .dataframe tbody tr th:only-of-type {\n",
       "        vertical-align: middle;\n",
       "    }\n",
       "\n",
       "    .dataframe tbody tr th {\n",
       "        vertical-align: top;\n",
       "    }\n",
       "\n",
       "    .dataframe thead th {\n",
       "        text-align: right;\n",
       "    }\n",
       "</style>\n",
       "<table border=\"1\" class=\"dataframe\">\n",
       "  <thead>\n",
       "    <tr style=\"text-align: right;\">\n",
       "      <th></th>\n",
       "      <th>carat</th>\n",
       "      <th>cut</th>\n",
       "      <th>color</th>\n",
       "      <th>clarity</th>\n",
       "      <th>depth</th>\n",
       "      <th>table</th>\n",
       "      <th>price</th>\n",
       "      <th>x</th>\n",
       "      <th>y</th>\n",
       "      <th>z</th>\n",
       "    </tr>\n",
       "  </thead>\n",
       "  <tbody>\n",
       "    <tr>\n",
       "      <th>0</th>\n",
       "      <td>0.23</td>\n",
       "      <td>Ideal</td>\n",
       "      <td>E</td>\n",
       "      <td>SI2</td>\n",
       "      <td>61.5</td>\n",
       "      <td>55.0</td>\n",
       "      <td>326</td>\n",
       "      <td>3.95</td>\n",
       "      <td>3.98</td>\n",
       "      <td>2.43</td>\n",
       "    </tr>\n",
       "    <tr>\n",
       "      <th>1</th>\n",
       "      <td>0.21</td>\n",
       "      <td>Premium</td>\n",
       "      <td>E</td>\n",
       "      <td>SI1</td>\n",
       "      <td>59.8</td>\n",
       "      <td>61.0</td>\n",
       "      <td>326</td>\n",
       "      <td>3.89</td>\n",
       "      <td>3.84</td>\n",
       "      <td>2.31</td>\n",
       "    </tr>\n",
       "    <tr>\n",
       "      <th>2</th>\n",
       "      <td>0.23</td>\n",
       "      <td>Good</td>\n",
       "      <td>E</td>\n",
       "      <td>VS1</td>\n",
       "      <td>56.9</td>\n",
       "      <td>65.0</td>\n",
       "      <td>327</td>\n",
       "      <td>4.05</td>\n",
       "      <td>4.07</td>\n",
       "      <td>2.31</td>\n",
       "    </tr>\n",
       "    <tr>\n",
       "      <th>3</th>\n",
       "      <td>0.29</td>\n",
       "      <td>Premium</td>\n",
       "      <td>I</td>\n",
       "      <td>VS2</td>\n",
       "      <td>62.4</td>\n",
       "      <td>58.0</td>\n",
       "      <td>334</td>\n",
       "      <td>4.20</td>\n",
       "      <td>4.23</td>\n",
       "      <td>2.63</td>\n",
       "    </tr>\n",
       "    <tr>\n",
       "      <th>4</th>\n",
       "      <td>0.31</td>\n",
       "      <td>Good</td>\n",
       "      <td>J</td>\n",
       "      <td>SI2</td>\n",
       "      <td>63.3</td>\n",
       "      <td>58.0</td>\n",
       "      <td>335</td>\n",
       "      <td>4.34</td>\n",
       "      <td>4.35</td>\n",
       "      <td>2.75</td>\n",
       "    </tr>\n",
       "  </tbody>\n",
       "</table>\n",
       "</div>"
      ],
      "text/plain": [
       "   carat      cut color clarity  depth  table  price     x     y     z\n",
       "0   0.23    Ideal     E     SI2   61.5   55.0    326  3.95  3.98  2.43\n",
       "1   0.21  Premium     E     SI1   59.8   61.0    326  3.89  3.84  2.31\n",
       "2   0.23     Good     E     VS1   56.9   65.0    327  4.05  4.07  2.31\n",
       "3   0.29  Premium     I     VS2   62.4   58.0    334  4.20  4.23  2.63\n",
       "4   0.31     Good     J     SI2   63.3   58.0    335  4.34  4.35  2.75"
      ]
     },
     "execution_count": 2,
     "metadata": {},
     "output_type": "execute_result"
    }
   ],
   "source": [
    "import pandas as pd\n",
    "import numpy as np\n",
    "\n",
    "diamonds = pd.read_csv('https://raw.githubusercontent.com/doryaswi/DAV-5400/master/diamonds.csv')\n",
    "diamonds.head()"
   ]
  },
  {
   "cell_type": "markdown",
   "metadata": {},
   "source": [
    "### Checking for null values: ###"
   ]
  },
  {
   "cell_type": "code",
   "execution_count": 3,
   "metadata": {},
   "outputs": [
    {
     "data": {
      "text/plain": [
       "Index([], dtype='object')"
      ]
     },
     "execution_count": 3,
     "metadata": {},
     "output_type": "execute_result"
    }
   ],
   "source": [
    "diamonds.columns[diamonds.isnull().any()]"
   ]
  },
  {
   "cell_type": "code",
   "execution_count": 4,
   "metadata": {},
   "outputs": [
    {
     "name": "stdout",
     "output_type": "stream",
     "text": [
      "<class 'pandas.core.frame.DataFrame'>\n",
      "RangeIndex: 53940 entries, 0 to 53939\n",
      "Data columns (total 10 columns):\n",
      "carat      53940 non-null float64\n",
      "cut        53940 non-null object\n",
      "color      53940 non-null object\n",
      "clarity    53940 non-null object\n",
      "depth      53940 non-null float64\n",
      "table      53940 non-null float64\n",
      "price      53940 non-null int64\n",
      "x          53940 non-null float64\n",
      "y          53940 non-null float64\n",
      "z          53940 non-null float64\n",
      "dtypes: float64(6), int64(1), object(3)\n",
      "memory usage: 4.1+ MB\n"
     ]
    }
   ],
   "source": [
    "diamonds.info()"
   ]
  },
  {
   "cell_type": "markdown",
   "metadata": {},
   "source": [
    "Checked if there are some null or missing values that need to be handled before analyzing the data. Based on the results above, the dataset does not contain any null or missing values."
   ]
  },
  {
   "cell_type": "markdown",
   "metadata": {},
   "source": [
    "### Task/Question 1: What proportion of diamonds are between .30 and 1.08 carats? ###\n",
    "\n",
    "Since carats is a numeric and continuous variable, a histogram can be created to estimate the proportion of diamonds that are between 0.30 and 1.08 carats. In addition to this, calculations can also be done to find this. In order to calculate for this, the following steps need to be completed:\n",
    "1. Filter and create a new dataframe that only contains records with diamonds having carats between 0.30 and 1.08.\n",
    "2. Count the size of this filtered dataframe.\n",
    "3. Count the size of the original dataframe.\n",
    "4. Use formula: size of dataframe with diamonds having carats between 0.30 and 1.08/size of original dataframe."
   ]
  },
  {
   "cell_type": "code",
   "execution_count": 40,
   "metadata": {},
   "outputs": [
    {
     "data": {
      "image/png": "[encoded data removed]",
      "text/plain": [
       "<Figure size 432x288 with 1 Axes>"
      ]
     },
     "metadata": {
      "needs_background": "light"
     },
     "output_type": "display_data"
    }
   ],
   "source": [
    "#creates and displays histogram of the carats attribute and number of records in a given carats range\n",
    "carat_hist = diamonds['carat'].hist(bins=20)\n",
    "carat_hist;"
   ]
  },
  {
   "cell_type": "markdown",
   "metadata": {},
   "source": [
    "Although it is somehow difficult to estimate or get the actual proportion of diamonds with carats between 0.30 and 1.08, it can be clearly seen that a vast majority of the diamonds in the dataset falls within this range."
   ]
  },
  {
   "cell_type": "code",
   "execution_count": 6,
   "metadata": {},
   "outputs": [
    {
     "name": "stdout",
     "output_type": "stream",
     "text": [
      "0.7468298109010011\n"
     ]
    }
   ],
   "source": [
    "#filters dataframe and creates a new one that only contains diamonds having carats between 0.30 and 1.08 (inclusive)\n",
    "#counts the size of this dataframe\n",
    "carat = diamonds[(diamonds['carat']>=0.30) & (diamonds['carat']<=1.08)].count()['carat']\n",
    "print(carat/diamonds.count()['carat']) #calculates proportion of the diamonds having carats between 0.30 and 1.08"
   ]
  },
  {
   "cell_type": "markdown",
   "metadata": {},
   "source": [
    "**Answer to Task/Question1:** The proportion of diamonds having carats between 0.30 and 1.08 inclusive is 0.7468 or 0.75. This means that over 50% or to be more specific, almost 75% of the diamonds dataset has carats that falls within this range."
   ]
  },
  {
   "cell_type": "markdown",
   "metadata": {},
   "source": [
    "### Task/Question 2: How many of the diamonds have equal x and y dimensions? ###\n",
    "\n",
    "In order to answer this task/question, a new dataframe was created from the original dataframe such that, the new dataframe will only contain the diamonds that have equal x and y dimensions. Afterwards, the size of this new dataframe was printed."
   ]
  },
  {
   "cell_type": "code",
   "execution_count": 7,
   "metadata": {},
   "outputs": [
    {
     "name": "stdout",
     "output_type": "stream",
     "text": [
      "17\n"
     ]
    }
   ],
   "source": [
    "x_y = diamonds[(diamonds['x']==diamonds['y'])] #filters data to only contain diamonds where x and y dimensions are equal\n",
    "print(len(x_y)) #gets size of the new dataframe and prints it out"
   ]
  },
  {
   "cell_type": "markdown",
   "metadata": {},
   "source": [
    "**Answer to Task/Question2:** There are 17 diamonds whose x and y dimensions are the same (equal)."
   ]
  },
  {
   "cell_type": "markdown",
   "metadata": {},
   "source": [
    "### Task/Question 3: How many of the diamonds have a carat less than the mean carat value? ###\n",
    "\n",
    "To answer this task/question, a descriptive statistics of the carat column was ran first, again this is because carat is a numeric and continuous variable and running descriptive statistics. Second, a new dataframe was created from the original dataframe. This new dataframe is the result of filtering only those diamonds having carat less than the mean value."
   ]
  },
  {
   "cell_type": "code",
   "execution_count": 8,
   "metadata": {},
   "outputs": [
    {
     "data": {
      "text/plain": [
       "count    53940.000000\n",
       "mean         0.797940\n",
       "std          0.474011\n",
       "min          0.200000\n",
       "25%          0.400000\n",
       "50%          0.700000\n",
       "75%          1.040000\n",
       "max          5.010000\n",
       "Name: carat, dtype: float64"
      ]
     },
     "execution_count": 8,
     "metadata": {},
     "output_type": "execute_result"
    }
   ],
   "source": [
    "diamonds.describe()['carat'] #gets descriptive statistics for carat column only"
   ]
  },
  {
   "cell_type": "markdown",
   "metadata": {},
   "source": [
    "Based on the results of the descriptive statistics, since the mean is equal to 0.7979 and median is at 0.70, which therefore says that our mean is less than the median which is already 50% of our data, we should expect that the actual result will be a number of records that is more than 50% of the total number of records in the dataset."
   ]
  },
  {
   "cell_type": "code",
   "execution_count": 9,
   "metadata": {},
   "outputs": [
    {
     "data": {
      "text/plain": [
       "31127"
      ]
     },
     "execution_count": 9,
     "metadata": {},
     "output_type": "execute_result"
    }
   ],
   "source": [
    "#creates a new data frame that filters dataset to only have diamonds with carat less than the mean and then calculates the \n",
    "#size of the new data frame\n",
    "carat_mean = diamonds[diamonds['carat']<diamonds.mean()['carat']].count()['carat']\n",
    "carat_mean"
   ]
  },
  {
   "cell_type": "markdown",
   "metadata": {},
   "source": [
    "**Answer to Task/Question 3:** There are 31,127 diamonds in the dataset with carat less than that of the mean value. This is about 57% of the data which is expected based on the results of the descriptive statistics mentioned above."
   ]
  },
  {
   "cell_type": "markdown",
   "metadata": {},
   "source": [
    "### Task/Question 4: How many diamonds have a Premium cut or better? Note that the possible values for the quality of  cut are ranked in ascending order as follows: Fair/Good/Very Good/Premium/Ideal ###\n",
    "\n",
    "For this question, the following steps were done:\n",
    "1. A bar graph was plotted. By doing so, we will be able to get a rough estimate of how many diamonds have a Premium cut or better. In this case it will be all diamonds having a Premium or Ideal cut.\n",
    "2. To be able to get the actual numbers, a new dataframe was created from the original dataframe. The new data frame filters only the diamonds that have a Premium or Ideal cut.\n",
    "3. Get size of the data frame to get the number of diamonds with Premium cut or better."
   ]
  },
  {
   "cell_type": "code",
   "execution_count": 10,
   "metadata": {},
   "outputs": [
    {
     "data": {
      "image/png": "[encoded data removed]",
      "text/plain": [
       "<Figure size 432x288 with 1 Axes>"
      ]
     },
     "metadata": {
      "needs_background": "light"
     },
     "output_type": "display_data"
    }
   ],
   "source": [
    "#creates a bar graph of the diamonds by cut\n",
    "cut_bar = diamonds['cut'].value_counts().plot.bar(title='Diamond Distribution by Cut')"
   ]
  },
  {
   "cell_type": "markdown",
   "metadata": {},
   "source": [
    "Based on this bar graph, it can be easily seen that most of the diamonds in the dataset have either a Premium cut or better (Ideal). This is because on the bar graph, it is evident that Ideal and Premium cuts are both the top 2 highest cuts in the dataset."
   ]
  },
  {
   "cell_type": "code",
   "execution_count": 11,
   "metadata": {},
   "outputs": [
    {
     "data": {
      "text/plain": [
       "35342"
      ]
     },
     "execution_count": 11,
     "metadata": {},
     "output_type": "execute_result"
    }
   ],
   "source": [
    "#filters, creates, and counts the number of diamonds that have a Premium or Ideal cut\n",
    "cut = diamonds[(diamonds['cut']=='Premium') | (diamonds['cut']=='Ideal')].count()['cut']\n",
    "cut"
   ]
  },
  {
   "cell_type": "markdown",
   "metadata": {},
   "source": [
    "**Answer to Task/Question 4:** As expected, the number of diamonds that have a Premium cut or better is more than 50% of the dataset. The actual number of diamonds that have a Premium cut or better is 35,342."
   ]
  },
  {
   "cell_type": "markdown",
   "metadata": {},
   "source": [
    "### Task/Question 5: Which diamond has the highest price per carat? What is its value?\n",
    "\n",
    "These steps will be completed to answer the question above:\n",
    "1. A copy of the original data frame will be created.\n",
    "2. A new column will be created that will store the price per carat using the formula: price/carat\n",
    "3. After calculating the price/carat, the maximum value of the new column will then be calculated."
   ]
  },
  {
   "cell_type": "code",
   "execution_count": 12,
   "metadata": {},
   "outputs": [
    {
     "data": {
      "text/html": [
       "<div>\n",
       "<style scoped>\n",
       "    .dataframe tbody tr th:only-of-type {\n",
       "        vertical-align: middle;\n",
       "    }\n",
       "\n",
       "    .dataframe tbody tr th {\n",
       "        vertical-align: top;\n",
       "    }\n",
       "\n",
       "    .dataframe thead th {\n",
       "        text-align: right;\n",
       "    }\n",
       "</style>\n",
       "<table border=\"1\" class=\"dataframe\">\n",
       "  <thead>\n",
       "    <tr style=\"text-align: right;\">\n",
       "      <th></th>\n",
       "      <th>carat</th>\n",
       "      <th>cut</th>\n",
       "      <th>color</th>\n",
       "      <th>clarity</th>\n",
       "      <th>depth</th>\n",
       "      <th>table</th>\n",
       "      <th>price</th>\n",
       "      <th>x</th>\n",
       "      <th>y</th>\n",
       "      <th>z</th>\n",
       "    </tr>\n",
       "  </thead>\n",
       "  <tbody>\n",
       "    <tr>\n",
       "      <th>0</th>\n",
       "      <td>0.23</td>\n",
       "      <td>Ideal</td>\n",
       "      <td>E</td>\n",
       "      <td>SI2</td>\n",
       "      <td>61.5</td>\n",
       "      <td>55.0</td>\n",
       "      <td>326</td>\n",
       "      <td>3.95</td>\n",
       "      <td>3.98</td>\n",
       "      <td>2.43</td>\n",
       "    </tr>\n",
       "    <tr>\n",
       "      <th>1</th>\n",
       "      <td>0.21</td>\n",
       "      <td>Premium</td>\n",
       "      <td>E</td>\n",
       "      <td>SI1</td>\n",
       "      <td>59.8</td>\n",
       "      <td>61.0</td>\n",
       "      <td>326</td>\n",
       "      <td>3.89</td>\n",
       "      <td>3.84</td>\n",
       "      <td>2.31</td>\n",
       "    </tr>\n",
       "    <tr>\n",
       "      <th>2</th>\n",
       "      <td>0.23</td>\n",
       "      <td>Good</td>\n",
       "      <td>E</td>\n",
       "      <td>VS1</td>\n",
       "      <td>56.9</td>\n",
       "      <td>65.0</td>\n",
       "      <td>327</td>\n",
       "      <td>4.05</td>\n",
       "      <td>4.07</td>\n",
       "      <td>2.31</td>\n",
       "    </tr>\n",
       "    <tr>\n",
       "      <th>3</th>\n",
       "      <td>0.29</td>\n",
       "      <td>Premium</td>\n",
       "      <td>I</td>\n",
       "      <td>VS2</td>\n",
       "      <td>62.4</td>\n",
       "      <td>58.0</td>\n",
       "      <td>334</td>\n",
       "      <td>4.20</td>\n",
       "      <td>4.23</td>\n",
       "      <td>2.63</td>\n",
       "    </tr>\n",
       "    <tr>\n",
       "      <th>4</th>\n",
       "      <td>0.31</td>\n",
       "      <td>Good</td>\n",
       "      <td>J</td>\n",
       "      <td>SI2</td>\n",
       "      <td>63.3</td>\n",
       "      <td>58.0</td>\n",
       "      <td>335</td>\n",
       "      <td>4.34</td>\n",
       "      <td>4.35</td>\n",
       "      <td>2.75</td>\n",
       "    </tr>\n",
       "  </tbody>\n",
       "</table>\n",
       "</div>"
      ],
      "text/plain": [
       "   carat      cut color clarity  depth  table  price     x     y     z\n",
       "0   0.23    Ideal     E     SI2   61.5   55.0    326  3.95  3.98  2.43\n",
       "1   0.21  Premium     E     SI1   59.8   61.0    326  3.89  3.84  2.31\n",
       "2   0.23     Good     E     VS1   56.9   65.0    327  4.05  4.07  2.31\n",
       "3   0.29  Premium     I     VS2   62.4   58.0    334  4.20  4.23  2.63\n",
       "4   0.31     Good     J     SI2   63.3   58.0    335  4.34  4.35  2.75"
      ]
     },
     "execution_count": 12,
     "metadata": {},
     "output_type": "execute_result"
    }
   ],
   "source": [
    "diamonds1 = diamonds.copy() #creates copy of the original dataset\n",
    "diamonds1.head() #prints sample of the new copy"
   ]
  },
  {
   "cell_type": "code",
   "execution_count": 13,
   "metadata": {},
   "outputs": [
    {
     "data": {
      "text/html": [
       "<div>\n",
       "<style scoped>\n",
       "    .dataframe tbody tr th:only-of-type {\n",
       "        vertical-align: middle;\n",
       "    }\n",
       "\n",
       "    .dataframe tbody tr th {\n",
       "        vertical-align: top;\n",
       "    }\n",
       "\n",
       "    .dataframe thead th {\n",
       "        text-align: right;\n",
       "    }\n",
       "</style>\n",
       "<table border=\"1\" class=\"dataframe\">\n",
       "  <thead>\n",
       "    <tr style=\"text-align: right;\">\n",
       "      <th></th>\n",
       "      <th>carat</th>\n",
       "      <th>cut</th>\n",
       "      <th>color</th>\n",
       "      <th>clarity</th>\n",
       "      <th>depth</th>\n",
       "      <th>table</th>\n",
       "      <th>price</th>\n",
       "      <th>x</th>\n",
       "      <th>y</th>\n",
       "      <th>z</th>\n",
       "      <th>price/carat</th>\n",
       "    </tr>\n",
       "  </thead>\n",
       "  <tbody>\n",
       "    <tr>\n",
       "      <th>0</th>\n",
       "      <td>0.23</td>\n",
       "      <td>Ideal</td>\n",
       "      <td>E</td>\n",
       "      <td>SI2</td>\n",
       "      <td>61.5</td>\n",
       "      <td>55.0</td>\n",
       "      <td>326</td>\n",
       "      <td>3.95</td>\n",
       "      <td>3.98</td>\n",
       "      <td>2.43</td>\n",
       "      <td>1417.391304</td>\n",
       "    </tr>\n",
       "    <tr>\n",
       "      <th>1</th>\n",
       "      <td>0.21</td>\n",
       "      <td>Premium</td>\n",
       "      <td>E</td>\n",
       "      <td>SI1</td>\n",
       "      <td>59.8</td>\n",
       "      <td>61.0</td>\n",
       "      <td>326</td>\n",
       "      <td>3.89</td>\n",
       "      <td>3.84</td>\n",
       "      <td>2.31</td>\n",
       "      <td>1552.380952</td>\n",
       "    </tr>\n",
       "    <tr>\n",
       "      <th>2</th>\n",
       "      <td>0.23</td>\n",
       "      <td>Good</td>\n",
       "      <td>E</td>\n",
       "      <td>VS1</td>\n",
       "      <td>56.9</td>\n",
       "      <td>65.0</td>\n",
       "      <td>327</td>\n",
       "      <td>4.05</td>\n",
       "      <td>4.07</td>\n",
       "      <td>2.31</td>\n",
       "      <td>1421.739130</td>\n",
       "    </tr>\n",
       "    <tr>\n",
       "      <th>3</th>\n",
       "      <td>0.29</td>\n",
       "      <td>Premium</td>\n",
       "      <td>I</td>\n",
       "      <td>VS2</td>\n",
       "      <td>62.4</td>\n",
       "      <td>58.0</td>\n",
       "      <td>334</td>\n",
       "      <td>4.20</td>\n",
       "      <td>4.23</td>\n",
       "      <td>2.63</td>\n",
       "      <td>1151.724138</td>\n",
       "    </tr>\n",
       "    <tr>\n",
       "      <th>4</th>\n",
       "      <td>0.31</td>\n",
       "      <td>Good</td>\n",
       "      <td>J</td>\n",
       "      <td>SI2</td>\n",
       "      <td>63.3</td>\n",
       "      <td>58.0</td>\n",
       "      <td>335</td>\n",
       "      <td>4.34</td>\n",
       "      <td>4.35</td>\n",
       "      <td>2.75</td>\n",
       "      <td>1080.645161</td>\n",
       "    </tr>\n",
       "  </tbody>\n",
       "</table>\n",
       "</div>"
      ],
      "text/plain": [
       "   carat      cut color clarity  depth  table  price     x     y     z  \\\n",
       "0   0.23    Ideal     E     SI2   61.5   55.0    326  3.95  3.98  2.43   \n",
       "1   0.21  Premium     E     SI1   59.8   61.0    326  3.89  3.84  2.31   \n",
       "2   0.23     Good     E     VS1   56.9   65.0    327  4.05  4.07  2.31   \n",
       "3   0.29  Premium     I     VS2   62.4   58.0    334  4.20  4.23  2.63   \n",
       "4   0.31     Good     J     SI2   63.3   58.0    335  4.34  4.35  2.75   \n",
       "\n",
       "   price/carat  \n",
       "0  1417.391304  \n",
       "1  1552.380952  \n",
       "2  1421.739130  \n",
       "3  1151.724138  \n",
       "4  1080.645161  "
      ]
     },
     "execution_count": 13,
     "metadata": {},
     "output_type": "execute_result"
    }
   ],
   "source": [
    "diamonds1['price/carat'] = diamonds1.price/diamonds1.carat #creates new column in diamonds 1 to calculate price/carat\n",
    "diamonds1.head() #prints sample of dataframe copy with the new column price/carat"
   ]
  },
  {
   "cell_type": "code",
   "execution_count": 14,
   "metadata": {},
   "outputs": [
    {
     "name": "stdout",
     "output_type": "stream",
     "text": [
      "17828.846153846152\n",
      "27635\n",
      "carat               1.04\n",
      "cut            Very Good\n",
      "color                  D\n",
      "clarity               IF\n",
      "depth               61.3\n",
      "table                 56\n",
      "price              18542\n",
      "x                   6.53\n",
      "y                   6.55\n",
      "z                   4.01\n",
      "price/carat      17828.8\n",
      "Name: 27635, dtype: object\n"
     ]
    }
   ],
   "source": [
    "max_price_carat = diamonds1['price/carat'].max() #gets the value of the maximum price per carat\n",
    "index_max_price_carat = diamonds1['price/carat'].idxmax() #finds the row index of the diamond that has this value\n",
    "rec_max_price_carat = diamonds1.iloc[27635] #gets details of the diamond with max price per carat\n",
    "\n",
    "print(max_price_carat)\n",
    "print(index_max_price_carat)\n",
    "print(rec_max_price_carat)"
   ]
  },
  {
   "cell_type": "markdown",
   "metadata": {},
   "source": [
    "**Answer to Task/Question 5:** The maximum value price per carat for this dataset is 17,828.85/carat. The diamond that has this characteristic is found to have an index of 27635. After digging dipper, it is found out that this diamond is 1.04 carats with a price of 18,542. Although the cut is only \"Very Good\", the reason for it being expensive in terms of price/carat among all the diamonds is probably because it has the \"IF\" clarity code, which is the best clarity code according to the definition of clarity."
   ]
  },
  {
   "cell_type": "markdown",
   "metadata": {},
   "source": [
    "### Task/Question 6: Make a bar plot of the \"cut\" data. What does it tell us about the frequencies of the individual cut values within the data set? ###\n",
    "\n",
    "This question does not require any transformation. To answer the question, a bar graph was just created as follows:"
   ]
  },
  {
   "cell_type": "code",
   "execution_count": 15,
   "metadata": {},
   "outputs": [
    {
     "data": {
      "image/png": "[encoded data removed]",
      "text/plain": [
       "<Figure size 432x288 with 1 Axes>"
      ]
     },
     "metadata": {
      "needs_background": "light"
     },
     "output_type": "display_data"
    }
   ],
   "source": [
    "#creates a bar graph of the diamonds by cut\n",
    "cut_bar = diamonds['cut'].value_counts().plot.bar(title='Diamond Distribution by Cut')"
   ]
  },
  {
   "cell_type": "markdown",
   "metadata": {},
   "source": [
    "**Answer to Task/Question 6:** It is interesting to find that based on the bar graph above, the frequency of the individual cut values was distributed according to the one that has the highest quality to the one that has the lowest quality. This means that Ideal, which is considered as the best cut has the highest frequency while Fair, which is considered as the worst cut has the lowest frequency."
   ]
  },
  {
   "cell_type": "markdown",
   "metadata": {},
   "source": [
    "### Task/Question 7: Make boxplots of the diamond price for each cut and discuss any conclusions you can draw from the appearance of the boxplots. ###\n",
    "\n",
    "This question does not require any transformation. To answer the question, a boxplot was just created as follows:"
   ]
  },
  {
   "cell_type": "code",
   "execution_count": 16,
   "metadata": {},
   "outputs": [
    {
     "data": {
      "image/png": "[encoded data removed]",
      "text/plain": [
       "<Figure size 432x288 with 1 Axes>"
      ]
     },
     "metadata": {
      "needs_background": "light"
     },
     "output_type": "display_data"
    }
   ],
   "source": [
    "box_price_cut = diamonds.boxplot(column=['price'],by='cut') #creates a boxplot for price by cut"
   ]
  },
  {
   "cell_type": "markdown",
   "metadata": {},
   "source": [
    "**Answer to Task/Question 7:** Based on the boxplots, the following are some of the conclusions you can make:\n",
    "1. the \"Ideal\" cut which is the best cut had the lowest median price as compared to the rest of the cuts. \n",
    "2. the median price value for \"Premium\", \"Fair\", and \"Good\" cuts are almost equal. But, \"Premium\" cut is slightly higher than the two and has the highest median price value.\n",
    "3. it seems that the price distribution for all cuts is skewed to the right.\n",
    "4. all the cuts have a lot of outliers/extreme values except for Premium. Ideal cut and Fair has the highest number of outliers/extreme values.\n",
    "5. the range of the prices for all cuts seems to be really wide."
   ]
  },
  {
   "cell_type": "markdown",
   "metadata": {},
   "source": [
    "### Task/Question 8: Make histograms of the length, width, depth, and total depth attributes and discuss any conclusions you can draw from the shape of the resulting distributions. ###\n",
    "\n",
    "To accomplish this task, histograms for each attribute were created. The following columns were used to generate the histograms based on the data dictionary:\n",
    "length = x column,\n",
    "width = y column,\n",
    "depth = z column, and \n",
    "total depth = depth column"
   ]
  },
  {
   "cell_type": "code",
   "execution_count": 24,
   "metadata": {},
   "outputs": [
    {
     "data": {
      "image/png": "[encoded data removed]",
      "text/plain": [
       "<Figure size 432x288 with 1 Axes>"
      ]
     },
     "metadata": {
      "needs_background": "light"
     },
     "output_type": "display_data"
    }
   ],
   "source": [
    "hist_length = diamonds['x'].hist(bins=25) #creates histogram for length"
   ]
  },
  {
   "cell_type": "code",
   "execution_count": 25,
   "metadata": {},
   "outputs": [
    {
     "data": {
      "image/png": "[encoded data removed]",
      "text/plain": [
       "<Figure size 432x288 with 1 Axes>"
      ]
     },
     "metadata": {
      "needs_background": "light"
     },
     "output_type": "display_data"
    }
   ],
   "source": [
    "hist_width = diamonds['y'].hist(bins=25) #creates histogram for width"
   ]
  },
  {
   "cell_type": "code",
   "execution_count": 26,
   "metadata": {},
   "outputs": [
    {
     "data": {
      "image/png": "[encoded data removed]",
      "text/plain": [
       "<Figure size 432x288 with 1 Axes>"
      ]
     },
     "metadata": {
      "needs_background": "light"
     },
     "output_type": "display_data"
    }
   ],
   "source": [
    "hist_depth = diamonds['z'].hist(bins=25) #creates histogram for depth"
   ]
  },
  {
   "cell_type": "code",
   "execution_count": 27,
   "metadata": {},
   "outputs": [
    {
     "data": {
      "image/png": "[encoded data removed]",
      "text/plain": [
       "<Figure size 432x288 with 1 Axes>"
      ]
     },
     "metadata": {
      "needs_background": "light"
     },
     "output_type": "display_data"
    }
   ],
   "source": [
    "hist_totdepth = diamonds['depth'].hist(bins=25) #creates histogram for total depth"
   ]
  },
  {
   "cell_type": "markdown",
   "metadata": {},
   "source": [
    "**Answer to Task/Question 8:** The following are some conclusions based on the shape of the resulting distributions for each attribute:\n",
    "1. Length: Although the highest length distribution will be from the range between 4mm to 5mm, the shape of the curve is almost a bell curve however, it is still slightly skewed to the right.\n",
    "2. Width: It is evident that the range between 5mm and 6mm has the highest width distribution. The shape of the curve also is almost a bell curve but it has a very high peak because of the high width distribution on the 5mm and 6mm range.\n",
    "3. Depth: The shape of the distribution for this attribute is really close to being a bell curve or normally distributed. You can definitely see the symmetry on the end tails. The only thing is that it has a very high distribution between the 3mm and 4mm range of values.\n",
    "4. Total Depth: The shape of the distribution for this attribute is also really close to a bell curve or normally distributed. It is almost symmetrical it just have a high peak due between the 62 to 64 range of values."
   ]
  },
  {
   "cell_type": "markdown",
   "metadata": {},
   "source": [
    "### Task/Question 9: Make a scatter plot of price vs. carat. What can we say about the relationship between those two attributes? ###\n",
    "\n",
    "This question does not require any transformation. To answer the question, a scatter plot was just created as follows and the correlation was also calculated:"
   ]
  },
  {
   "cell_type": "code",
   "execution_count": 28,
   "metadata": {},
   "outputs": [
    {
     "data": {
      "image/png": "[encoded data removed]",
      "text/plain": [
       "<Figure size 432x288 with 1 Axes>"
      ]
     },
     "metadata": {
      "needs_background": "light"
     },
     "output_type": "display_data"
    }
   ],
   "source": [
    "scatter_price_carat = diamonds.plot.scatter(x='carat',y='price') #creates scatter plot for price vs. carat"
   ]
  },
  {
   "cell_type": "code",
   "execution_count": 39,
   "metadata": {},
   "outputs": [
    {
     "data": {
      "text/plain": [
       "0.9215913011935697"
      ]
     },
     "execution_count": 39,
     "metadata": {},
     "output_type": "execute_result"
    }
   ],
   "source": [
    "scat_price_carat = diamonds[['price','carat']] #creates new data frame that only has price and carat columns\n",
    "price_carat_mat = scat_price_carat.corr() #calculates correlation matrix\n",
    "price_carat_mat.iloc[0,1] #gets only the correlation for price and carat"
   ]
  },
  {
   "cell_type": "markdown",
   "metadata": {},
   "source": [
    "**Answer to Task/Question 9:** By looking at the scatter plot above, it is evident that carat has a strong positive relationship with price. This means that as the carat goes up, the price also goes up. In addition, upon getting the correlation between price and carat, the result was 0.92 which confirms that there is really a strong relationship between this two attributes."
   ]
  }
 ],
 "metadata": {
  "kernelspec": {
   "display_name": "Python 3",
   "language": "python",
   "name": "python3"
  },
  "language_info": {
   "codemirror_mode": {
    "name": "ipython",
    "version": 3
   },
   "file_extension": ".py",
   "mimetype": "text/x-python",
   "name": "python",
   "nbconvert_exporter": "python",
   "pygments_lexer": "ipython3",
   "version": "3.7.1"
  }
 },
 "nbformat": 4,
 "nbformat_minor": 2
}
