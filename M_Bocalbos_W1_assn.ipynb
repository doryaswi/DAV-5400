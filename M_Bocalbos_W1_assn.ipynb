{
 "cells": [
  {
   "cell_type": "markdown",
   "metadata": {},
   "source": [
    "**Original Dataset Link:** [link] (https://archive.ics.uci.edu/ml/datasets/Somerville+Happiness+Survey)\n",
    "                           [link] (https://archive.ics.uci.edu/ml/machine-learning-databases/00479/)\n",
    "\n",
    "**Github Copy of Dataset Link:** [link] (https://github.com/doryaswi/DAV-5400/blob/master/SomervilleHappinessSurvey2015.csv)\n",
    "\n",
    "**About the Dataset:** \n",
    "\n",
    "The dataset is about a a particular location, that is Somerville. It has 143 rows and 7 attributes. The first column is whether the survey respondent is happy (1) or not (0) with Somerville while the rest of the 6 attributes are factors affecting their decision, these are: availability of information about city services, cost of housing, overall quality of public schools, trust in the local police, maintenance of streets and sidewalks, availability of social community events. These 6 attributes uses a scale of 1-5 as rating.\n",
    "\n",
    "I found this data interesting because it will be useful especially if you are a government officer of this particular city. It will be nice to know whether most of your residents are happy in your city or not. If most of them are unhappy, then you will be able to improve the city in the areas where the rating is low. If they are happy, you will also then be able to know which areas you need to continue doing and also still which ones need improvement. I think, these are the same questions that I want to answer using this dataset. First of all, it would be nice to predict whether a particular respondent is happy or unhappy based on their responses to the questions. Next, I would want to determine which among the factors has the strongest influence in predicting whether the respondent is happy/unhappy? Some basic statistics like average satisfaction of the respondents on the different attributes and also how many respondents where happy vs. unhappy. \n",
    "\n"
   ]
  }
 ],
 "metadata": {
  "kernelspec": {
   "display_name": "Python 3",
   "language": "python",
   "name": "python3"
  },
  "language_info": {
   "codemirror_mode": {
    "name": "ipython",
    "version": 3
   },
   "file_extension": ".py",
   "mimetype": "text/x-python",
   "name": "python",
   "nbconvert_exporter": "python",
   "pygments_lexer": "ipython3",
   "version": "3.7.1"
  }
 },
 "nbformat": 4,
 "nbformat_minor": 2
}
