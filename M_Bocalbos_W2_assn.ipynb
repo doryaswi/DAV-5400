{
 "cells": [
  {
   "cell_type": "markdown",
   "metadata": {},
   "source": [
    "## First Task"
   ]
  },
  {
   "cell_type": "code",
   "execution_count": 40,
   "metadata": {},
   "outputs": [
    {
     "name": "stdout",
     "output_type": "stream",
     "text": [
      "['high', 'high', 'high', 'high', 'vhigh', 'low', 'med', 'low', 'vhigh', 'vhigh', 'low', 'vhigh', 'high', 'low', 'high', 'vhigh', 'med', 'high', 'low', 'low', 'med', 'low', 'vhigh', 'med', 'low', 'vhigh', 'med', 'high', 'low', 'med', 'high', 'high', 'low', 'vhigh', 'high']\n",
      "['high', 'high', 'high', 'low', 'low', 'high', 'med', 'low', 'low', 'high', 'low', 'low', 'low', 'vhigh', 'low', 'high', 'med', 'low', 'low', 'low', 'high', 'low', 'high', 'vhigh', 'vhigh', 'low', 'vhigh', 'high', 'high', 'high', 'low', 'vhigh', 'low', 'vhigh', 'low']\n",
      "['2', '4', '4', '2', '3', '2', '4', '3', '2', '4', '2', '4', '2', '3', '5more', '2', '2', '5more', '3', '2', '4', '2', '5more', '2', '4', '3', '3', '3', '5more', '5more', '3', '5more', '5more', '4', '3']\n",
      "['4', 'more', 'more', 'more', '2', '2', 'more', '2', '2', '4', '2', 'more', '4', 'more', '2', 'more', '2', '4', 'more', '2', '2', '2', '4', '2', '4', 'more', '4', '4', '2', '2', '4', '4', '2', '2', '2']\n",
      "['med', 'small', 'big', 'big', 'med', 'small', 'med', 'big', 'small', 'med', 'med', 'small', 'big', 'big', 'big', 'med', 'small', 'med', 'med', 'big', 'big', 'small', 'med', 'big', 'big', 'big', 'small', 'med', 'big', 'med', 'med', 'med', 'med', 'big', 'big']\n",
      "['low', 'high', 'low', 'high', 'med', 'low', 'high', 'med', 'low', 'low', 'med', 'high', 'med', 'low', 'med', 'high', 'low', 'high', 'high', 'med', 'high', 'high', 'med', 'low', 'low', 'low', 'low', 'med', 'low', 'med', 'high', 'med', 'low', 'high', 'high']\n",
      "['unacc', 'acc', 'unacc', 'acc', 'unacc', 'unacc', 'vgood', 'unacc', 'unacc', 'unacc', 'unacc', 'acc', 'acc', 'unacc', 'unacc', 'unacc', 'unacc', 'acc', 'vgood', 'unacc', 'unacc', 'unacc', 'unacc', 'unacc', 'unacc', 'unacc', 'unacc', 'unacc', 'unacc', 'unacc', 'acc', 'unacc', 'unacc', 'unacc', 'unacc']\n"
     ]
    }
   ],
   "source": [
    "import csv\n",
    "with open('C:\\Maridor\\MS DAV\\DAV 5400 - Analytics Programming\\Assignments\\DAV-5400\\cars-sample35.txt') as csvfile:\n",
    "    readCSV = csv.reader(csvfile)\n",
    "    #creates a list for each attribute\n",
    "    Price = []\n",
    "    Maint_Cost = []\n",
    "    Num_Doors = []\n",
    "    Num_Pass = []\n",
    "    Luggage = []\n",
    "    Safety = []\n",
    "    Vehicle_Class = []\n",
    "    for row in readCSV:\n",
    "        #extracts each line of the attribute and adds it on to each of the list created above.\n",
    "        Price.append(row[0])\n",
    "        Maint_Cost.append(row[1])\n",
    "        Num_Doors.append(row[2])\n",
    "        Num_Pass.append(row[3])\n",
    "        Luggage.append(row[4])\n",
    "        Safety.append(row[5])\n",
    "        Vehicle_Class.append(row[6])\n",
    "    #prints each of the list\n",
    "    print(Price)\n",
    "    print(Maint_Cost)\n",
    "    print(Num_Doors)\n",
    "    print(Num_Pass)\n",
    "    print(Luggage)\n",
    "    print(Safety)\n",
    "    print(Vehicle_Class)"
   ]
  },
  {
   "cell_type": "markdown",
   "metadata": {},
   "source": [
    "## Second Task"
   ]
  },
  {
   "cell_type": "code",
   "execution_count": 45,
   "metadata": {},
   "outputs": [
    {
     "name": "stdout",
     "output_type": "stream",
     "text": [
      "[6, 16, 20, 23, 26, 29]\n"
     ]
    }
   ],
   "source": [
    "P_med_index = [] #creates new list that will hold index value of Price with value of \"med\"\n",
    "p = 0\n",
    "while p < len(Price): #iterates through each value of the Price list\n",
    "    if Price[p] == 'med':\n",
    "        P_med_index.append(p)\n",
    "    p +=1\n",
    "print(P_med_index)"
   ]
  },
  {
   "cell_type": "markdown",
   "metadata": {},
   "source": [
    "## Third Task"
   ]
  },
  {
   "cell_type": "code",
   "execution_count": 50,
   "metadata": {},
   "outputs": [
    {
     "name": "stdout",
     "output_type": "stream",
     "text": [
      "['more', '2', '2', '2', '4', '2']\n"
     ]
    }
   ],
   "source": [
    "num_pass_price_med = [] #creates new list that will hold number of passengers for those with Price value of \"med\"\n",
    "price = 0\n",
    "while price < len(Price): #iterates through each value of the Price list\n",
    "    if Price[price] == 'med':\n",
    "        num_pass_price_med.append(Num_Pass[price]) #adds number of passengers with Price = \"med\" on the new list.\n",
    "    price +=1\n",
    "print(num_pass_price_med)"
   ]
  },
  {
   "cell_type": "markdown",
   "metadata": {},
   "source": [
    "## Fourth Task"
   ]
  },
  {
   "cell_type": "code",
   "execution_count": 51,
   "metadata": {},
   "outputs": [
    {
     "name": "stdout",
     "output_type": "stream",
     "text": [
      "[0, 1, 2, 27, 31]\n"
     ]
    }
   ],
   "source": [
    "price_high_maint_notlow = [] #creates new list that will store auto index value with price \"high\" and maint. cost not \"low\"\n",
    "pm = 0\n",
    "while pm < len(Price): #iterates through each value of the Price list\n",
    "    if Price[pm] == 'high' and Maint_Cost[pm] != 'low':\n",
    "        price_high_maint_notlow.append(pm) #gets value of auto index and adds it onto the new list.\n",
    "    pm +=1\n",
    "print(price_high_maint_notlow)"
   ]
  },
  {
   "cell_type": "markdown",
   "metadata": {},
   "source": [
    "## Fifth Task"
   ]
  },
  {
   "cell_type": "code",
   "execution_count": 53,
   "metadata": {},
   "outputs": [
    {
     "name": "stdout",
     "output_type": "stream",
     "text": [
      "[3, 12, 19, 23]\n"
     ]
    }
   ],
   "source": [
    "two_doors_luggage_big = [] #creates new list that will store auto index value with 2 doors and big luggage.\n",
    "doors = 0\n",
    "while doors < len(Num_Doors): #iterates through each value of the Price list\n",
    "    if Num_Doors[doors] == '2' and Luggage[doors] == 'big':\n",
    "        two_doors_luggage_big.append(doors) #gets value of auto index and adds it onto the new list.\n",
    "    doors +=1\n",
    "print(two_doors_luggage_big)"
   ]
  },
  {
   "cell_type": "markdown",
   "metadata": {},
   "source": [
    "## Final Task"
   ]
  },
  {
   "cell_type": "code",
   "execution_count": 57,
   "metadata": {},
   "outputs": [
    {
     "name": "stdout",
     "output_type": "stream",
     "text": [
      "[2, 4, 4, 2, 3, 2, 4, 3, 2, 4, 2, 4, 2, 3, 5, 2, 2, 5, 3, 2, 4, 2, 5, 2, 4, 3, 3, 3, 5, 5, 3, 5, 5, 4, 3]\n",
      "Average = 3.3142857142857145\n"
     ]
    }
   ],
   "source": [
    "new_num_doors = [] #creates new list that will store number of rows\n",
    "for d in Num_Doors: #iterates through each value of the Num_Doors list\n",
    "    if d != '5more':\n",
    "        new_num_doors.append(int(d)) #converts number of doors from string to int and adds it onto the new list\n",
    "    else:\n",
    "        new_num_doors.append(int('5')) #changes value of \"5more\" to \"5\" and converts it from string to int and add to the list\n",
    "ave_doors = sum(new_num_doors)/len(new_num_doors) #calculates average number of doors\n",
    "print(new_num_doors)\n",
    "print('Average = ' + str(ave_doors))"
   ]
  }
 ],
 "metadata": {
  "kernelspec": {
   "display_name": "Python 3",
   "language": "python",
   "name": "python3"
  },
  "language_info": {
   "codemirror_mode": {
    "name": "ipython",
    "version": 3
   },
   "file_extension": ".py",
   "mimetype": "text/x-python",
   "name": "python",
   "nbconvert_exporter": "python",
   "pygments_lexer": "ipython3",
   "version": "3.7.1"
  }
 },
 "nbformat": 4,
 "nbformat_minor": 2
}
